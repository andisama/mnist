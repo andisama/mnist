{
    "nbformat_minor": 2, 
    "cells": [
        {
            "execution_count": 16, 
            "cell_type": "code", 
            "metadata": {}, 
            "outputs": [], 
            "source": "# Author: Andi Sama\n# Organization: Sinergi Wahana Gemilang\n#   a Value Added Distributor in Jakarta, Indonesia\n# Created: June 18, 2018\n# Last modified:\n#   - June 19, 2018\n#     * Add a few more information during training by modifying code in network_asm.py\n#       (% on classification rate & elapsed time per epoch + total elapsed time for all epochs)\n#     * Add a few more information during training by modifying code in mnist_loader_asm.py\n#       (loaded data sizes)\n#   - June 21, 2018\n#     * Apply cross-entropy on cost function (previously: use quadratic cost) to improve accuracy\n#     * Apply Mini-batch gradient descent (previously: just Stochastic Gradient Descent)\n#     * Add monitor_elapsed_time flag in network2_asm.py\n#     * Draw plot for training cost, evaluation cost against # of epoch\n#     * Use Gaussian distributions with mean 0 and standard deviation 1 over the square root\n#       of the number of weights connecting to the same neuron for network initialization\n#       (previously: Gaussian distribution without square root)\n#   - June 23, 2018\n#     * Use regularization - lambda \n#     * Visualization of mnist dataset\n#   - June 24, 2018\n#       Add predict() function use existing function load() network after save()\n#       => vanilla version done\n#   - June 24, 2018\n#     * use mnist testing dataset to predict (now still using training data)\n#   - June 25-26, 2018\n#     * migrate to IBM Watson Studio (on cloud)\n#       - upload all files to IBM object storage\n#       - get all files to working directory by using IBM boto3 api\n#       - convert code from python 2.7 to 3.5 (print function, cPickle handler, xrange)\n#   - June 28, 2018\n#     retrain with lambda = 0 (no regularization, for article - for SWG Insights Q4 2018)\n#   - July 9-12, 2018\n#     change framework to keras (change MNIST input to numpy.ndarray)\n#   - July 14-15, 2018\n#     use Conv2D with Keras (change environment to 2 vCPU and 8GB RAM <prev 1vCPU, 4GB>)\n# Topic: Beginning Deep Learning (computer vision)\n# Purpose: Recognizing handwritten digits 0-9 in 3 steps\n#   - 1. Prepare datasets (MNIST, modified nist database)\n#   - 2. Train, Validate on datasets to generate deep learning model (architecture, weights)\n#   - 3. Predict new data based on generated model with testing data \n# Type of Neural Network: Supervised Learning with shallow neural network\n#   Dataset: mnist\n#     - original training dataset (60,000): handwritten digits from 250 persons (2 groups)\n#       further then divided to be 50,000 for training dataset and 10,000 for validation dataset\n#     - testing dataset (10,000): handwritten digits from another set of 250 persons (2 groups)\n# Hardware & Software platforms:\n#   - environment: cygwin on Windows, on Thinkpad T450 (i7 4 vCPUs without GPUs, 16 GB RAM)\n#   - programming language: python (v2.7)\n#   - deep learning framework: none\n#   - libraries: sys, pandas, numpy, math, matplotlib, botocore, ibm_boto3\n# Reference:\n#   - Michael A. Nielsen, \"Neural Network & Deep Learning\",\n#     Determination Press, 2015 http://neuralnetworksanddeeplearning.com \n#     Original code from the book is at https://github.com/mnielsen/neural-networks-and-deep-learning\n#   - various references from stackoverflow, github, and related library documentations etc"
        }, 
        {
            "execution_count": 17, 
            "cell_type": "code", 
            "metadata": {}, 
            "outputs": [], 
            "source": "# GET ALL REQUIRED FILES to working directory by using IBM boto3 api\n# Just need to do this once, comment afterward\n#\nimport sys\nimport types\nimport pandas as pd # dataframe manipulations\nfrom botocore.client import Config # to access IBM Object Storage\nimport ibm_boto3 # to access IBM Object Storage\n\n# LOAD required libraries\nimport matplotlib.pyplot as plt # graphic related things\nimport numpy as np # matrix manipulations\nimport math # math functions"
        }, 
        {
            "execution_count": 18, 
            "cell_type": "code", 
            "metadata": {}, 
            "outputs": [], 
            "source": "# The code was removed by DSX for sharing."
        }, 
        {
            "execution_count": 19, 
            "cell_type": "code", 
            "metadata": {}, 
            "outputs": [], 
            "source": "# Above cell is hidden for publishing... get your own key from IBM Watson Studio on IBM cloud to fill the following\n# The following code accesses a file in your IBM Cloud Object Storage. It includes your credentials.\n# replace \"your IBM API Key\" with your generated key\n# s3 = ibm_boto3.client(service_name='s3',\n#     ibm_api_key_id='your IBM API Key',\n#     ibm_auth_endpoint=\"https://iam.ng.bluemix.net/oidc/token\",\n#     config=Config(signature_version='oauth'),\n#     endpoint_url='https://s3-api.us-geo.objectstorage.service.networklayer.com')"
        }, 
        {
            "execution_count": 20, 
            "cell_type": "code", 
            "metadata": {}, 
            "outputs": [], 
            "source": "# replace the following \"mybucket\" with your generated bucket\nmybucket='doctorofcomputerscience-donotdelete-pr-e1zj6xtk1pjpth'\n# 1. get mnist dataset\nwith open('mnist.pkl.gz', 'wb') as data:\n    s3.download_fileobj(mybucket, 'mnist.pkl.gz', data)\n# 2. get pyton library for loading mnist dataset\nwith open('mnist_loader_asm_py3.py', 'wb') as data:\n    s3.download_fileobj(mybucket, 'mnist_loader_asm_py3.py', data)\n# 3. get pyton library for training & prediction\nwith open('network2_asm_b_py3.py', 'wb') as data:\n    s3.download_fileobj(mybucket, 'network2_asm_b_py3.py', data)\n# file for testing to predict(), get pre-trained network (without retraining)\n# 2 hidden layers at 30 neurons each, lr=0.15, batch size=32, no regularization\n# result: train cost: 0.0609736142951, eval cost: 0.229741976137, train acc: 99.416 %, eval acc: 96.89 %\n# June 28 2018: Total time for 50 Epochs are: 681.4261889457703 seconds on IBM Cloud (1vCPU 4 GB RAM)\nwith open('2018624223944_asm_Trained_NN', 'wb') as data:\n    s3.download_fileobj(mybucket, '2018628165028_asm_Trained_NN', data)"
        }, 
        {
            "execution_count": 21, 
            "cell_type": "code", 
            "metadata": {}, 
            "outputs": [], 
            "source": "# LOAD our specific libraries\nimport mnist_loader_asm_py3 # helper program for loading mnist data set\n# import network2_asm_b_py3 # helper program, neural network layers"
        }, 
        {
            "execution_count": 22, 
            "cell_type": "code", 
            "metadata": {}, 
            "outputs": [], 
            "source": "#plot individual curve: training training/evaluation accuracy, training/evaluation cost\ndef plot_curve(xlabel, epoch, ylabel, loss):\n    # epoch: total epoch, loss: list of lost values for all epochs\n    epochs = []\n    for i in range(epoch):\n        epochs.append(i)\n    plt.plot(epochs,loss)\n    plt.xlabel(xlabel)\n    plt.ylabel(ylabel)\n    plt.show()\n    \n#compare training & evaluation accuracy / cost\ndef plot_curve_comparison(epoch, title, xlabel, data1, ylabel, data2):\n    epochs = []\n    for i in range(epoch):\n        epochs.append(i)\n    fig = plt.figure()\n    ax = plt.subplot(111)\n    ax.plot(epochs, data1, label=xlabel)\n    ax.plot(epochs, data2, label=ylabel)\n    plt.title(title)\n    ax.legend()\n    plt.show()\n\n# draw a 28x28 pixels digit from 784x1 input array\ndef draw_digit(input):\n    row = 1\n    column = 1\n    for i in range(column):\n        #get corresponding target label (y) \"digit\" from its vectorized format\n        #then, plot the image data \n        image = input.reshape(28, 28)   \n        plt.subplot(row, column, 1)  # subplot with size  \n        plt.imshow(image, cmap='gray')  # cmap='gray' is for black and white picture.\n        plt.axis('on')  # show axis value\n        plt.tight_layout()  # automatic padding between subplots\n        plt.show()"
        }, 
        {
            "execution_count": 23, 
            "cell_type": "code", 
            "metadata": {
                "scrolled": false
            }, 
            "outputs": [
                {
                    "output_type": "stream", 
                    "name": "stdout", 
                    "text": ">> Training dataset (x, y)], length: 2 arrays.\n  - 1st array (data, x) 28x28 pixels; total data: 50000 , length per data: 784\n  - 2nd array (target label, y) [0..9]; total data: 50000\n    sample dataset: 5\n"
                }
            ], 
            "source": "# ========================\n# 1. LOAD Dataset (MNIST)\n# ========================\n# 1a. load mnist data using mnist_loader library\n#   output is structured in such a way to fit and be ready for learning\n#   each data is in 784x1 dimension, reshape to 28x28 pixels for viewing\n#   each label is in 8x1 dimension,\n#     extract array content with \"1\" in it to get the actual label [\"0\"..\"9\"]\n#\nzip_training_data, zip_validation_data, zip_test_data = mnist_loader_asm_py3.load_data_wrapper()"
        }, 
        {
            "execution_count": 24, 
            "cell_type": "code", 
            "metadata": {}, 
            "outputs": [], 
            "source": "training_data = list(zip_training_data)\nvalidation_data = list(zip_validation_data)\ntest_data = list(zip_test_data)"
        }, 
        {
            "execution_count": 25, 
            "cell_type": "code", 
            "metadata": {}, 
            "outputs": [
                {
                    "output_type": "stream", 
                    "name": "stdout", 
                    "text": "A few samples for the 28x28 pixels mnist digit dataset with its corresponding label\n"
                }, 
                {
                    "output_type": "display_data", 
                    "data": {
                        "image/png": "[encoded data removed]", 
                        "text/plain": "<matplotlib.figure.Figure at 0x7f3f647cfc18>"
                    }, 
                    "metadata": {}
                }, 
                {
                    "output_type": "display_data", 
                    "data": {
                        "image/png": "[encoded data removed]", 
                        "text/plain": "<matplotlib.figure.Figure at 0x7f3f912ab898>"
                    }, 
                    "metadata": {}
                }, 
                {
                    "output_type": "display_data", 
                    "data": {
                        "image/png": "[encoded data removed]", 
                        "text/plain": "<matplotlib.figure.Figure at 0x7f3f64723630>"
                    }, 
                    "metadata": {}
                }
            ], 
            "source": "# 1b. just show a few sample digits with its corresponding labels\n#\nprint(\"A few samples for the 28x28 pixels mnist digit dataset with its corresponding label\")\nrow = 1\ncolumn = 3\nnp.random.shuffle(training_data) # just resuffle so we are showing different data when refreshed\nfor i in range(column):\n    #get corresponding target label (y) \"digit\" from its vectorized format\n    data = training_data[i][1]\n    digit=0\n    j=0\n    for x in data:\n        if int(x):\n            digit=j\n            break\n        else:\n            j=j+1\n    #then, plot the image data \n    image = training_data[i][0].reshape(28, 28)   \n    plt.subplot(row, column, i+1)  # subplot with size  \n    plt.imshow(image, cmap='gray')  # cmap='gray' is for black and white picture.\n    plt.title('labelled as = {0}'.format(digit))\n    plt.axis('on')  # do not show axis value\n    plt.tight_layout()  # automatic padding between subplots\n    filename = \"mnist_plot\"+str(i)+\".png\"\n    plt.savefig(filename)\n    plt.show()"
        }, 
        {
            "execution_count": 26, 
            "cell_type": "code", 
            "metadata": {}, 
            "outputs": [
                {
                    "output_type": "stream", 
                    "name": "stdout", 
                    "text": "(784, 1)\n(10, 1)\n"
                }
            ], 
            "source": "# x_train\nprint(training_data[0][0].shape)\n# y_train\nprint(training_data[0][1].shape)"
        }, 
        {
            "execution_count": 27, 
            "cell_type": "code", 
            "metadata": {}, 
            "outputs": [], 
            "source": "training_data_ndarray = np.array(training_data)\n# xtmp_train, ytmp_train (temporary before adjusted for keras)\nxtmp_train, ytmp_train = training_data_ndarray[:, :-1], training_data_ndarray[:, -1]\n# print(xtmp_train.shape, xtmp_train[0][0].shape)\n# print(ytmp_train.shape, ytmp_train[0].shape)"
        }, 
        {
            "execution_count": 28, 
            "cell_type": "code", 
            "metadata": {}, 
            "outputs": [], 
            "source": "# preparing x_train \"x\" data to be suitable for input to keras framework (for training)\n# with dimension 50,000 x 784\n# x_train will be ready for Keras.Dense layer\ni=0\nrow=len(xtmp_train)\ncolumn=len(xtmp_train[0][0])\n# print(row, column)\nx_train = np.zeros((row, column))\n# print(x_train.shape)\nwhile(i<(len(xtmp_train)-1)):\n    x_train[i] = np.reshape(xtmp_train[i][0], (1,784))\n    i=i+1\n\nx_train = x_train.reshape(row, 28, 28, 1) # Preparing x_train to be ready for Keras.Conv2D layer\n    \n# preparing y_train \"y\" data to be suitable for input to keras framework (for training)\n# with dimension 50,000 x 10\ni=0\nrow=len(ytmp_train)\ncolumn=len(ytmp_train[0])\n# print(row, column)\ny_train = np.zeros((row, column))\n# print(y_train.shape)\nwhile(i<(len(ytmp_train)-1)):\n    y_train[i] = np.reshape(ytmp_train[i], (1,10))\n    i=i+1"
        }, 
        {
            "execution_count": 29, 
            "cell_type": "code", 
            "metadata": {}, 
            "outputs": [
                {
                    "output_type": "stream", 
                    "name": "stdout", 
                    "text": "(50000, 28, 28, 1)\n"
                }
            ], 
            "source": "print(x_train.shape)"
        }, 
        {
            "execution_count": 30, 
            "cell_type": "code", 
            "metadata": {
                "scrolled": true
            }, 
            "outputs": [], 
            "source": "# July 14 2018: use keras framework with default: tensorflow\n# create VGG-like network, see https://keras.io/layers/convolutional/\nimport keras \nfrom keras.models import Sequential\nfrom keras.layers import Dense, Conv2D, MaxPooling2D, Flatten, Dropout\n\nmodel = Sequential()\n#input layer with 784 neurons arranged in 28x28, with 1st hidden layer as Conv2D\nmodel.add(Conv2D(32, (3,3), activation='relu', input_shape=(28,28,1)))\nmodel.add(Conv2D(32, (3,3), activation='relu'))\nmodel.add(MaxPooling2D(pool_size=(2,2)))\nmodel.add(Dropout(0.25)) \n\nmodel.add(Conv2D(64, (3,3), activation='relu'))\nmodel.add(Conv2D(64, (3,3), activation='relu'))\nmodel.add(MaxPooling2D(pool_size=(2,2)))\nmodel.add(Dropout(0.25)) \n\nmodel.add(Flatten())\nmodel.add(Dense(units=256, activation='relu'))\nmodel.add(Dropout(0.5)) \n\n# output layer, 10 neurons (digits 0..9)\nmodel.add(Dense(units=10, activation='softmax'))\n          \nmodel.compile(loss=keras.losses.categorical_crossentropy,\n              optimizer=keras.optimizers.SGD(lr=0.01, momentum=0.9, nesterov=True))"
        }, 
        {
            "execution_count": 31, 
            "cell_type": "code", 
            "metadata": {}, 
            "outputs": [
                {
                    "output_type": "stream", 
                    "name": "stdout", 
                    "text": "_________________________________________________________________\nLayer (type)                 Output Shape              Param #   \n=================================================================\nconv2d_5 (Conv2D)            (None, 26, 26, 32)        320       \n_________________________________________________________________\nconv2d_6 (Conv2D)            (None, 24, 24, 32)        9248      \n_________________________________________________________________\nmax_pooling2d_3 (MaxPooling2 (None, 12, 12, 32)        0         \n_________________________________________________________________\ndropout_4 (Dropout)          (None, 12, 12, 32)        0         \n_________________________________________________________________\nconv2d_7 (Conv2D)            (None, 10, 10, 64)        18496     \n_________________________________________________________________\nconv2d_8 (Conv2D)            (None, 8, 8, 64)          36928     \n_________________________________________________________________\nmax_pooling2d_4 (MaxPooling2 (None, 4, 4, 64)          0         \n_________________________________________________________________\ndropout_5 (Dropout)          (None, 4, 4, 64)          0         \n_________________________________________________________________\nflatten_2 (Flatten)          (None, 1024)              0         \n_________________________________________________________________\ndense_3 (Dense)              (None, 256)               262400    \n_________________________________________________________________\ndropout_6 (Dropout)          (None, 256)               0         \n_________________________________________________________________\ndense_4 (Dense)              (None, 10)                2570      \n=================================================================\nTotal params: 329,962\nTrainable params: 329,962\nNon-trainable params: 0\n_________________________________________________________________\nNone\n"
                }
            ], 
            "source": "print(model.summary())"
        }, 
        {
            "execution_count": 32, 
            "cell_type": "code", 
            "metadata": {}, 
            "outputs": [
                {
                    "output_type": "stream", 
                    "name": "stdout", 
                    "text": "(50000, 28, 28, 1) (50000, 10)\n"
                }
            ], 
            "source": "# our x_train and y_train in numpy.ndarray format that are now ready as expected by keras framework\nprint(x_train.shape, y_train.shape)"
        }, 
        {
            "execution_count": 33, 
            "cell_type": "code", 
            "metadata": {
                "scrolled": true
            }, 
            "outputs": [
                {
                    "output_type": "stream", 
                    "name": "stdout", 
                    "text": "Epoch 1/10\n50000/50000 [==============================] - 319s 6ms/step - loss: 0.2964\nEpoch 2/10\n50000/50000 [==============================] - 323s 6ms/step - loss: 0.0924\nEpoch 3/10\n50000/50000 [==============================] - 321s 6ms/step - loss: 0.0642\nEpoch 4/10\n50000/50000 [==============================] - 325s 6ms/step - loss: 0.0566\nEpoch 5/10\n50000/50000 [==============================] - 326s 7ms/step - loss: 0.0490\nEpoch 6/10\n50000/50000 [==============================] - 326s 7ms/step - loss: 0.0425\nEpoch 7/10\n50000/50000 [==============================] - 322s 6ms/step - loss: 0.0382\nEpoch 8/10\n50000/50000 [==============================] - 322s 6ms/step - loss: 0.0364\nEpoch 9/10\n50000/50000 [==============================] - 319s 6ms/step - loss: 0.0308\nEpoch 10/10\n50000/50000 [==============================] - 320s 6ms/step - loss: 0.0311\n"
                }, 
                {
                    "execution_count": 33, 
                    "metadata": {}, 
                    "data": {
                        "text/plain": "<keras.callbacks.History at 0x7f3f5d77f550>"
                    }, 
                    "output_type": "execute_result"
                }
            ], 
            "source": "# # ==================================================\n# # 2. TRAIN the Neural Network (SUPERVISED LEARNING)\n# # ==================================================\nmodel.fit(x_train, y_train, epochs=10, batch_size=32)"
        }, 
        {
            "execution_count": 34, 
            "cell_type": "code", 
            "metadata": {}, 
            "outputs": [
                {
                    "output_type": "stream", 
                    "name": "stdout", 
                    "text": "saving: 2018714195532_asm_Trained_NN_Keras_Conv2D ...\ndone.\n"
                }
            ], 
            "source": "# 2b. save the last trained network sizes, weights, biases, cost\n#\n# generate current time to be embedded in filename\nimport time\ndt = time.localtime(time.time())\ni=0\nprefix = \"\"\nwhile i<6:\n    #print str(dt[i])\n    prefix = prefix + str(dt[i])\n    i=i+1\n# embed the current time in file name\nfilename = prefix + \"_asm_Trained_NN_Keras_Conv2D\"\nprint(\"saving:\", filename, \"...\")\nmodel.save_weights(filename)\nprint(\"done.\")"
        }, 
        {
            "execution_count": 35, 
            "cell_type": "code", 
            "metadata": {}, 
            "outputs": [], 
            "source": "# # 2c. load trained network for prediction\n# # e.g. filename = 2018714195532_asm_Trained_NN_Keras_Conv2D\n# filename = 2018714195532_asm_Trained_NN_Keras_Conv2D\n# print(\"loading:\", filename, \"...\")\n# model.load_weights(filename)\n# print(\"done.\")"
        }, 
        {
            "execution_count": 36, 
            "cell_type": "code", 
            "metadata": {}, 
            "outputs": [
                {
                    "output_type": "stream", 
                    "name": "stdout", 
                    "text": "(10000, 784)\n(10000, 28, 28, 1)\n"
                }
            ], 
            "source": "# preparing test_data suitable for input to keras framework (for prediction)\n# with dimension 10,000 x 784\n# x_test will be ready for Keras.Dense layer\ntest_data_ndarray = np.array(test_data)\nxtmp_data, ytmp_data = test_data_ndarray[:, :-1], test_data_ndarray[:, -1]\nrow=len(test_data_ndarray)\ncolumn=len(test_data_ndarray[0][0])\n# print(row, column)\nx_test_data = np.zeros((row, column))\ni=0\nwhile(i<row-1):\n    x_test_data[i] = xtmp_data[i][0].reshape(1,784)\n    i=i+1\nprint(x_test_data.shape)\n\n# Preparing x_test to be ready for Keras.Conv2D layer\nx_test_data = x_test_data.reshape(row, 28, 28, 1)\nprint(x_test_data.shape)"
        }, 
        {
            "execution_count": 37, 
            "cell_type": "code", 
            "metadata": {}, 
            "outputs": [
                {
                    "output_type": "stream", 
                    "name": "stdout", 
                    "text": "test_data index = 9365\n"
                }, 
                {
                    "output_type": "display_data", 
                    "data": {
                        "image/png": "[encoded data removed]", 
                        "text/plain": "<matplotlib.figure.Figure at 0x7f3f65c643c8>"
                    }, 
                    "metadata": {}
                }, 
                {
                    "output_type": "stream", 
                    "name": "stdout", 
                    "text": "running digit prediction...\n1/1 [==============================] - 0s 23ms/step\nlabeled as:  3\nrecognized as:  3\n"
                }
            ], 
            "source": "# # =========== \n# # 3. PREDICT\n# # =========== \nimport random\nrandom_value = random.randint(0, row-1)\n# print(x_test_data[random_value].shape)\ny_test_data = test_data_ndarray[random_value][1]\nprint(\"test_data index =\", random_value)\nimage = x_test_data[random_value]\ndraw_digit(image)\nprint(\"running digit prediction...\")\nresult = model.predict(image.reshape(1,28,28,1), batch_size=None, verbose=1, steps=None)\nprint(\"labeled as: \", y_test_data)\nprint(\"recognized as: \", np.argmax(result))"
        }, 
        {
            "execution_count": 38, 
            "cell_type": "code", 
            "metadata": {}, 
            "outputs": [], 
            "source": "# upload the trained data to IBM Object Storage\nwith open(filename, 'rb') as data:\n    s3.upload_fileobj(data, mybucket, filename)"
        }, 
        {
            "execution_count": null, 
            "cell_type": "code", 
            "metadata": {}, 
            "outputs": [], 
            "source": "!ls -al"
        }
    ], 
    "metadata": {
        "kernelspec": {
            "display_name": "Python 3.5", 
            "name": "python3", 
            "language": "python"
        }, 
        "language_info": {
            "mimetype": "text/x-python", 
            "nbconvert_exporter": "python", 
            "version": "3.5.5", 
            "name": "python", 
            "file_extension": ".py", 
            "pygments_lexer": "ipython3", 
            "codemirror_mode": {
                "version": 3, 
                "name": "ipython"
            }
        }
    }, 
    "nbformat": 4
}