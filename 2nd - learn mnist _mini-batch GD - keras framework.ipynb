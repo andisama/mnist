{
    "nbformat_minor": 2, 
    "cells": [
        {
            "execution_count": 1, 
            "cell_type": "code", 
            "metadata": {}, 
            "outputs": [], 
            "source": "# Author: Andi Sama\n# Organization: Sinergi Wahana Gemilang\n#   a Value Added Distributor in Jakarta, Indonesia\n# Created: June 18, 2018\n# Last modified:\n#   - June 19, 2018\n#     * Add a few more information during training by modifying code in network_asm.py\n#       (% on classification rate & elapsed time per epoch + total elapsed time for all epochs)\n#     * Add a few more information during training by modifying code in mnist_loader_asm.py\n#       (loaded data sizes)\n#   - June 21, 2018\n#     * Apply cross-entropy on cost function (previously: use quadratic cost) to improve accuracy\n#     * Apply Mini-batch gradient descent (previously: just Stochastic Gradient Descent)\n#     * Add monitor_elapsed_time flag in network2_asm.py\n#     * Draw plot for training cost, evaluation cost against # of epoch\n#     * Use Gaussian distributions with mean 0 and standard deviation 1 over the square root\n#       of the number of weights connecting to the same neuron for network initialization\n#       (previously: Gaussian distribution without square root)\n#   - June 23, 2018\n#     * Use regularization - lambda \n#     * Visualization of mnist dataset\n#   - June 24, 2018\n#       Add predict() function use existing function load() network after save()\n#       => vanilla version done\n#   - June 24, 2018\n#     * use mnist testing dataset to predict (now still using training data)\n#   - June 25-26, 2018\n#     * migrate to IBM Watson Studio (on cloud)\n#       - upload all files to IBM object storage\n#       - get all files to working directory by using IBM boto3 api\n#       - convert code from python 2.7 to 3.5 (print function, cPickle handler, xrange)\n#   - June 28, 2018\n#     retrain with lambda = 0 (no regularization, for article - for SWG Insights Q4 2018)\n#   - July 9-12, 2018\n#     change framework to keras (change MNIST input to numpy.ndarray)\n# Topic: Beginning Deep Learning (computer vision)\n# Purpose: Recognizing handwritten digits 0-9 in 3 steps\n#   - 1. Prepare datasets (MNIST, modified nist database)\n#   - 2. Train, Validate on datasets to generate deep learning model (architecture, weights)\n#   - 3. Predict new data based on generated model with testing data \n# Type of Neural Network: Supervised Learning with shallow neural network\n#   Dataset: mnist\n#     - original training dataset (60,000): handwritten digits from 250 persons (2 groups)\n#       further then divided to be 50,000 for training dataset and 10,000 for validation dataset\n#     - testing dataset (10,000): handwritten digits from another set of 250 persons (2 groups)\n# Hardware & Software platforms:\n#   - environment: cygwin on Windows, on Thinkpad T450 (i7 4 vCPUs without GPUs, 16 GB RAM)\n#   - programming language: python (v2.7)\n#   - deep learning framework: none\n#   - libraries: sys, pandas, numpy, math, matplotlib, botocore, ibm_boto3\n# Reference:\n#   - Michael A. Nielsen, \"Neural Network & Deep Learning\",\n#     Determination Press, 2015 http://neuralnetworksanddeeplearning.com \n#     Original code from the book is at https://github.com/mnielsen/neural-networks-and-deep-learning\n#   - various references from stackoverflow, github, and related library documentations etc"
        }, 
        {
            "execution_count": 2, 
            "cell_type": "code", 
            "metadata": {}, 
            "outputs": [], 
            "source": "# GET ALL REQUIRED FILES to working directory by using IBM boto3 api\n# Just need to do this once, comment afterward\n#\nimport sys\nimport types\nimport pandas as pd # dataframe manipulations\nfrom botocore.client import Config # to access IBM Object Storage\nimport ibm_boto3 # to access IBM Object Storage\n\n# LOAD required libraries\nimport matplotlib.pyplot as plt # graphic related things\nimport numpy as np # matrix manipulations\nimport math # math functions"
        }, 
        {
            "execution_count": 3, 
            "cell_type": "code", 
            "metadata": {}, 
            "outputs": [], 
            "source": "# The code was removed by DSX for sharing."
        }, 
        {
            "execution_count": 4, 
            "cell_type": "code", 
            "metadata": {}, 
            "outputs": [], 
            "source": "# Above cell is hidden for publishing... get your own key from IBM Watson Studio on IBM cloud to fill the following\n# The following code accesses a file in your IBM Cloud Object Storage. It includes your credentials.\n# replace \"your IBM API Key\" with your generated key\n# s3 = ibm_boto3.client(service_name='s3',\n#     ibm_api_key_id='your IBM API Key',\n#     ibm_auth_endpoint=\"https://iam.ng.bluemix.net/oidc/token\",\n#     config=Config(signature_version='oauth'),\n#     endpoint_url='https://s3-api.us-geo.objectstorage.service.networklayer.com')"
        }, 
        {
            "execution_count": 5, 
            "cell_type": "code", 
            "metadata": {}, 
            "outputs": [], 
            "source": "# replace the following \"mybucket\" with your generated bucket\nmybucket='doctorofcomputerscience-donotdelete-pr-e1zj6xtk1pjpth'\n# 1. get mnist dataset\nwith open('mnist.pkl.gz', 'wb') as data:\n    s3.download_fileobj(mybucket, 'mnist.pkl.gz', data)\n# 2. get pyton library for loading mnist dataset\nwith open('mnist_loader_asm_py3.py', 'wb') as data:\n    s3.download_fileobj(mybucket, 'mnist_loader_asm_py3.py', data)\n# 3. get pyton library for training & prediction\nwith open('network2_asm_b_py3.py', 'wb') as data:\n    s3.download_fileobj(mybucket, 'network2_asm_b_py3.py', data)\n# file for testing to predict(), get pre-trained network (without retraining)\n# 2 hidden layers at 30 neurons each, lr=0.15, batch size=32, no regularization\n# result: train cost: 0.0609736142951, eval cost: 0.229741976137, train acc: 99.416 %, eval acc: 96.89 %\n# June 28 2018: Total time for 50 Epochs are: 681.4261889457703 seconds on IBM Cloud (1vCPU 4 GB RAM)\nwith open('2018624223944_asm_Trained_NN', 'wb') as data:\n    s3.download_fileobj(mybucket, '2018628165028_asm_Trained_NN', data)"
        }, 
        {
            "execution_count": 6, 
            "cell_type": "code", 
            "metadata": {}, 
            "outputs": [], 
            "source": "# LOAD our specific libraries\nimport mnist_loader_asm_py3 # helper program for loading mnist data set\n# import network2_asm_b_py3 # helper program, neural network layers"
        }, 
        {
            "execution_count": 7, 
            "cell_type": "code", 
            "metadata": {}, 
            "outputs": [], 
            "source": "#plot individual curve: training training/evaluation accuracy, training/evaluation cost\ndef plot_curve(xlabel, epoch, ylabel, loss):\n    # epoch: total epoch, loss: list of lost values for all epochs\n    epochs = []\n    for i in range(epoch):\n        epochs.append(i)\n    plt.plot(epochs,loss)\n    plt.xlabel(xlabel)\n    plt.ylabel(ylabel)\n    plt.show()\n    \n#compare training & evaluation accuracy / cost\ndef plot_curve_comparison(epoch, title, xlabel, data1, ylabel, data2):\n    epochs = []\n    for i in range(epoch):\n        epochs.append(i)\n    fig = plt.figure()\n    ax = plt.subplot(111)\n    ax.plot(epochs, data1, label=xlabel)\n    ax.plot(epochs, data2, label=ylabel)\n    plt.title(title)\n    ax.legend()\n    plt.show()\n\n# draw a 28x28 pixels digit from 784x1 input array\ndef draw_digit(input):\n    row = 1\n    column = 1\n    for i in range(column):\n        #get corresponding target label (y) \"digit\" from its vectorized format\n        #then, plot the image data \n        image = input.reshape(28, 28)   \n        plt.subplot(row, column, 1)  # subplot with size  \n        plt.imshow(image, cmap='gray')  # cmap='gray' is for black and white picture.\n        plt.axis('on')  # show axis value\n        plt.tight_layout()  # automatic padding between subplots\n        plt.show()"
        }, 
        {
            "execution_count": 8, 
            "cell_type": "code", 
            "metadata": {
                "scrolled": false
            }, 
            "outputs": [
                {
                    "output_type": "stream", 
                    "name": "stdout", 
                    "text": ">> Training dataset (x, y)], length: 2 arrays.\n  - 1st array (data, x) 28x28 pixels; total data: 50000 , length per data: 784\n  - 2nd array (target label, y) [0..9]; total data: 50000\n    sample dataset: 5\n"
                }
            ], 
            "source": "# ========================\n# 1. LOAD Dataset (MNIST)\n# ========================\n# 1a. load mnist data using mnist_loader library\n#   output is structured in such a way to fit and be ready for learning\n#   each data is in 784x1 dimension, reshape to 28x28 pixels for viewing\n#   each label is in 8x1 dimension,\n#     extract array content with \"1\" in it to get the actual label [\"0\"..\"9\"]\n#\nzip_training_data, zip_validation_data, zip_test_data = mnist_loader_asm_py3.load_data_wrapper()"
        }, 
        {
            "execution_count": 9, 
            "cell_type": "code", 
            "metadata": {}, 
            "outputs": [], 
            "source": "training_data = list(zip_training_data)\nvalidation_data = list(zip_validation_data)\ntest_data = list(zip_test_data)"
        }, 
        {
            "execution_count": 10, 
            "cell_type": "code", 
            "metadata": {}, 
            "outputs": [
                {
                    "output_type": "stream", 
                    "name": "stdout", 
                    "text": "A few samples for the 28x28 pixels mnist digit dataset with its corresponding label\n"
                }, 
                {
                    "output_type": "display_data", 
                    "data": {
                        "image/png": "[encoded data removed]", 
                        "text/plain": "<matplotlib.figure.Figure at 0x7f368074acf8>"
                    }, 
                    "metadata": {}
                }, 
                {
                    "output_type": "display_data", 
                    "data": {
                        "image/png": "[encoded data removed]", 
                        "text/plain": "<matplotlib.figure.Figure at 0x7f368073d9b0>"
                    }, 
                    "metadata": {}
                }, 
                {
                    "output_type": "display_data", 
                    "data": {
                        "image/png": "[encoded data removed]", 
                        "text/plain": "<matplotlib.figure.Figure at 0x7f3680053128>"
                    }, 
                    "metadata": {}
                }
            ], 
            "source": "# 1b. just show a few sample digits with its corresponding labels\n#\nprint(\"A few samples for the 28x28 pixels mnist digit dataset with its corresponding label\")\nrow = 1\ncolumn = 3\nnp.random.shuffle(training_data) # just resuffle so we are showing different data when refreshed\nfor i in range(column):\n    #get corresponding target label (y) \"digit\" from its vectorized format\n    data = training_data[i][1]\n    digit=0\n    j=0\n    for x in data:\n        if int(x):\n            digit=j\n            break\n        else:\n            j=j+1\n    #then, plot the image data \n    image = training_data[i][0].reshape(28, 28)   \n    plt.subplot(row, column, i+1)  # subplot with size  \n    plt.imshow(image, cmap='gray')  # cmap='gray' is for black and white picture.\n    plt.title('labelled as = {0}'.format(digit))\n    plt.axis('on')  # do not show axis value\n    plt.tight_layout()  # automatic padding between subplots\n    filename = \"mnist_plot\"+str(i)+\".png\"\n    plt.savefig(filename)\n    plt.show()"
        }, 
        {
            "execution_count": 11, 
            "cell_type": "code", 
            "metadata": {}, 
            "outputs": [
                {
                    "output_type": "stream", 
                    "name": "stdout", 
                    "text": "(784, 1)\n(10, 1)\n"
                }
            ], 
            "source": "# x_train\nprint(training_data[0][0].shape)\n# y_train\nprint(training_data[0][1].shape)"
        }, 
        {
            "execution_count": 12, 
            "cell_type": "code", 
            "metadata": {}, 
            "outputs": [], 
            "source": "training_data_ndarray = np.array(training_data)\n# xtmp_train, ytmp_train (temporary before adjusted for keras)\nxtmp_train, ytmp_train = training_data_ndarray[:, :-1], training_data_ndarray[:, -1]\n# print(xtmp_train.shape, xtmp_train[0][0].shape)\n# print(ytmp_train.shape, ytmp_train[0].shape)"
        }, 
        {
            "execution_count": 13, 
            "cell_type": "code", 
            "metadata": {}, 
            "outputs": [], 
            "source": "# preparing x_train \"x\" data to be suitable for input to keras framework (for training)\n# with dimension 50,000 x 784\ni=0\nrow=len(xtmp_train)\ncolumn=len(xtmp_train[0][0])\n# print(row, column)\nx_train = np.zeros((row, column))\n# print(x_train.shape)\nwhile(i<(len(xtmp_train)-1)):\n    x_train[i] = np.reshape(xtmp_train[i][0], (1,784))\n    i=i+1\n    \n# preparing y_train \"y\" data to be suitable for input to keras framework (for training)\n# with dimension 50,000 x 10\ni=0\nrow=len(ytmp_train)\ncolumn=len(ytmp_train[0])\n# print(row, column)\ny_train = np.zeros((row, column))\n# print(y_train.shape)\nwhile(i<(len(ytmp_train)-1)):\n    y_train[i] = np.reshape(ytmp_train[i], (1,10))\n    i=i+1"
        }, 
        {
            "execution_count": 14, 
            "cell_type": "code", 
            "metadata": {}, 
            "outputs": [
                {
                    "output_type": "stream", 
                    "name": "stderr", 
                    "text": "Using TensorFlow backend.\n"
                }
            ], 
            "source": "# July 9-12 2018: use keras framework with default: tensorflow as backend, instead of pure python code\nimport keras \nfrom keras.models import Sequential\nfrom keras.layers import Dense\n\nmodel = Sequential()\n#input layer with 784 neurons, 1st hidden layer with 30 neurons\nmodel.add(Dense(units=30, activation='relu', input_dim=784))\n# 2nd hidden layer, 30 neurons\nmodel.add(Dense(units=30, activation='relu'))\n# output layer, 10 neurons (digits 0..9)\nmodel.add(Dense(units=10, activation='softmax'))  \nmodel.compile(loss=keras.losses.categorical_crossentropy,\n              optimizer=keras.optimizers.SGD(lr=0.01, momentum=0.9, nesterov=True))"
        }, 
        {
            "execution_count": 15, 
            "cell_type": "code", 
            "metadata": {}, 
            "outputs": [
                {
                    "output_type": "stream", 
                    "name": "stdout", 
                    "text": "(50000, 784) (50000, 10)\n"
                }
            ], 
            "source": "# our x_train and y_train in numpy.ndarray format that are now ready as expected by keras framework\nprint(x_train.shape, y_train.shape)"
        }, 
        {
            "execution_count": 16, 
            "cell_type": "code", 
            "metadata": {}, 
            "outputs": [
                {
                    "output_type": "stream", 
                    "name": "stdout", 
                    "text": "_________________________________________________________________\nLayer (type)                 Output Shape              Param #   \n=================================================================\ndense_1 (Dense)              (None, 30)                23550     \n_________________________________________________________________\ndense_2 (Dense)              (None, 30)                930       \n_________________________________________________________________\ndense_3 (Dense)              (None, 10)                310       \n=================================================================\nTotal params: 24,790\nTrainable params: 24,790\nNon-trainable params: 0\n_________________________________________________________________\n"
                }
            ], 
            "source": "model.summary()"
        }, 
        {
            "execution_count": 17, 
            "cell_type": "code", 
            "metadata": {
                "scrolled": true
            }, 
            "outputs": [
                {
                    "output_type": "stream", 
                    "name": "stdout", 
                    "text": "Epoch 1/50\n50000/50000 [==============================] - 6s 115us/step - loss: 0.3693\nEpoch 2/50\n50000/50000 [==============================] - 6s 114us/step - loss: 0.1797\nEpoch 3/50\n50000/50000 [==============================] - 6s 112us/step - loss: 0.1439\nEpoch 4/50\n50000/50000 [==============================] - 6s 114us/step - loss: 0.1259\nEpoch 5/50\n50000/50000 [==============================] - 6s 114us/step - loss: 0.1089\nEpoch 6/50\n50000/50000 [==============================] - 6s 114us/step - loss: 0.0980\nEpoch 7/50\n50000/50000 [==============================] - 6s 114us/step - loss: 0.0918\nEpoch 8/50\n50000/50000 [==============================] - 6s 114us/step - loss: 0.0825\nEpoch 9/50\n50000/50000 [==============================] - 6s 112us/step - loss: 0.0772\nEpoch 10/50\n50000/50000 [==============================] - 6s 114us/step - loss: 0.0723\nEpoch 11/50\n50000/50000 [==============================] - 6s 114us/step - loss: 0.0673\nEpoch 12/50\n50000/50000 [==============================] - 6s 114us/step - loss: 0.0631\nEpoch 13/50\n50000/50000 [==============================] - 6s 113us/step - loss: 0.0587\nEpoch 14/50\n50000/50000 [==============================] - 6s 112us/step - loss: 0.0575\nEpoch 15/50\n50000/50000 [==============================] - 6s 112us/step - loss: 0.0523\nEpoch 16/50\n50000/50000 [==============================] - 6s 112us/step - loss: 0.0534\nEpoch 17/50\n50000/50000 [==============================] - 6s 114us/step - loss: 0.0480\nEpoch 18/50\n50000/50000 [==============================] - 6s 114us/step - loss: 0.0456 0s - loss: 0.045\nEpoch 19/50\n50000/50000 [==============================] - 6s 113us/step - loss: 0.0452\nEpoch 20/50\n50000/50000 [==============================] - 6s 114us/step - loss: 0.0441\nEpoch 21/50\n50000/50000 [==============================] - 6s 114us/step - loss: 0.0434\nEpoch 22/50\n50000/50000 [==============================] - 6s 114us/step - loss: 0.0373\nEpoch 23/50\n50000/50000 [==============================] - 6s 114us/step - loss: 0.0380\nEpoch 24/50\n50000/50000 [==============================] - 6s 114us/step - loss: 0.0350\nEpoch 25/50\n50000/50000 [==============================] - 6s 113us/step - loss: 0.0312\nEpoch 26/50\n50000/50000 [==============================] - 6s 114us/step - loss: 0.0315\nEpoch 27/50\n50000/50000 [==============================] - 6s 112us/step - loss: 0.0334\nEpoch 28/50\n50000/50000 [==============================] - 6s 114us/step - loss: 0.0348\nEpoch 29/50\n50000/50000 [==============================] - 6s 116us/step - loss: 0.0321\nEpoch 30/50\n50000/50000 [==============================] - 6s 113us/step - loss: 0.0328\nEpoch 31/50\n50000/50000 [==============================] - 6s 116us/step - loss: 0.0290\nEpoch 32/50\n50000/50000 [==============================] - 6s 115us/step - loss: 0.0257\nEpoch 33/50\n50000/50000 [==============================] - 6s 114us/step - loss: 0.0275\nEpoch 34/50\n50000/50000 [==============================] - 6s 112us/step - loss: 0.0275\nEpoch 35/50\n50000/50000 [==============================] - 6s 114us/step - loss: 0.0279\nEpoch 36/50\n50000/50000 [==============================] - 6s 116us/step - loss: 0.0264\nEpoch 37/50\n50000/50000 [==============================] - 6s 112us/step - loss: 0.0256\nEpoch 38/50\n50000/50000 [==============================] - 6s 116us/step - loss: 0.0276\nEpoch 39/50\n50000/50000 [==============================] - 6s 113us/step - loss: 0.0260\nEpoch 40/50\n50000/50000 [==============================] - 6s 115us/step - loss: 0.0215\nEpoch 41/50\n50000/50000 [==============================] - 6s 112us/step - loss: 0.0225\nEpoch 42/50\n50000/50000 [==============================] - 6s 115us/step - loss: 0.0264\nEpoch 43/50\n50000/50000 [==============================] - 6s 114us/step - loss: 0.0210\nEpoch 44/50\n50000/50000 [==============================] - 6s 114us/step - loss: 0.0194\nEpoch 45/50\n50000/50000 [==============================] - 6s 114us/step - loss: 0.0254\nEpoch 46/50\n50000/50000 [==============================] - 6s 114us/step - loss: 0.0254\nEpoch 47/50\n50000/50000 [==============================] - 6s 114us/step - loss: 0.0201\nEpoch 48/50\n50000/50000 [==============================] - 6s 114us/step - loss: 0.0191\nEpoch 49/50\n50000/50000 [==============================] - 6s 114us/step - loss: 0.0208\nEpoch 50/50\n50000/50000 [==============================] - 6s 115us/step - loss: 0.0207\n"
                }, 
                {
                    "execution_count": 17, 
                    "metadata": {}, 
                    "data": {
                        "text/plain": "<keras.callbacks.History at 0x7f3657a25f28>"
                    }, 
                    "output_type": "execute_result"
                }
            ], 
            "source": "# # ==================================================\n# # 2. TRAIN the Neural Network (SUPERVISED LEARNING)\n# # ==================================================\nmodel.fit(x_train, y_train, epochs=50, batch_size=32)"
        }, 
        {
            "execution_count": 18, 
            "cell_type": "code", 
            "metadata": {}, 
            "outputs": [
                {
                    "output_type": "stream", 
                    "name": "stdout", 
                    "text": "saving: 201871275844_asm_Trained_NN_Keras ...\ndone.\n"
                }
            ], 
            "source": "# 2b. save the last trained network sizes, weights, biases, cost\n#\n# generate current time to be embedded in filename\nimport time\ndt = time.localtime(time.time())\ni=0\nprefix = \"\"\nwhile i<6:\n    #print str(dt[i])\n    prefix = prefix + str(dt[i])\n    i=i+1\n# embed the current time in file name\nfilename = prefix + \"_asm_Trained_NN_Keras\"\nprint(\"saving:\", filename, \"...\")\nmodel.save_weights(filename)\nprint(\"done.\")"
        }, 
        {
            "execution_count": 19, 
            "cell_type": "code", 
            "metadata": {}, 
            "outputs": [], 
            "source": "# # 2c. load trained network for prediction\n# # e.g. filename = 2018710121134_asm_Trained_NN_Keras\n# filename = 2018710121134_asm_Trained_NN_Keras\n# print(\"saving:\", filename, \"...\")\n# model.load_weights(filename)\n# print(\"done.\")"
        }, 
        {
            "execution_count": 20, 
            "cell_type": "code", 
            "metadata": {}, 
            "outputs": [
                {
                    "output_type": "stream", 
                    "name": "stdout", 
                    "text": "(10000, 784)\n"
                }
            ], 
            "source": "# preparing test_data suitable for input to keras framework (for prediction)\n# with dimension 10,000 x 784\ntest_data_ndarray = np.array(test_data)\nxtmp_data, ytmp_data = test_data_ndarray[:, :-1], test_data_ndarray[:, -1]\nrow=len(test_data_ndarray)\ncolumn=len(test_data_ndarray[0][0])\n# print(row, column)\nx_test_data = np.zeros((row, column))\ni=0\nwhile(i<row-1):\n    x_test_data[i] = xtmp_data[i][0].reshape(1,784)\n    i=i+1\nprint(x_test_data.shape)"
        }, 
        {
            "execution_count": 21, 
            "cell_type": "code", 
            "metadata": {}, 
            "outputs": [
                {
                    "output_type": "stream", 
                    "name": "stdout", 
                    "text": "test_data index = 5624\n"
                }, 
                {
                    "output_type": "display_data", 
                    "data": {
                        "image/png": "[encoded data removed]", 
                        "text/plain": "<matplotlib.figure.Figure at 0x7f3656f23898>"
                    }, 
                    "metadata": {}
                }, 
                {
                    "output_type": "stream", 
                    "name": "stdout", 
                    "text": "running digit prediction...\n1/1 [==============================] - 0s 8ms/step\nlabeled as:  5\nrecognized as:  5\n"
                }
            ], 
            "source": "# # =========== \n# # 3. PREDICT\n# # =========== \nimport random\nrandom_value = random.randint(0, row-1)\n# print(x_test_data[random_value].shape)\ny_test_data = test_data_ndarray[random_value][1]\nprint(\"test_data index =\", random_value)\nimage = x_test_data[random_value]\ndraw_digit(image)\nprint(\"running digit prediction...\")\nresult = model.predict(image.reshape(1,784), batch_size=None, verbose=1, steps=None)\nprint(\"labeled as: \", y_test_data)\nprint(\"recognized as: \", np.argmax(result))"
        }, 
        {
            "execution_count": 22, 
            "cell_type": "code", 
            "metadata": {}, 
            "outputs": [], 
            "source": "# upload the trained data to IBM Object Storage\nwith open(filename, 'rb') as data:\n    s3.upload_fileobj(data, mybucket, filename)"
        }, 
        {
            "execution_count": 23, 
            "cell_type": "code", 
            "metadata": {}, 
            "outputs": [
                {
                    "output_type": "stream", 
                    "name": "stdout", 
                    "text": "total 17352\r\ndrwxr-x--- 3 dsxuser dsxuser     4096 Jul 12 07:58 .\r\ndrwx------ 1 dsxuser dsxuser     4096 Jul 12 05:55 ..\r\n-rw-r----- 1 dsxuser dsxuser   531635 Jul 12 07:53 2018624223944_asm_Trained_NN\r\n-rw-r----- 1 dsxuser dsxuser   113608 Jul 12 07:58 201871275844_asm_Trained_NN_Keras\r\n-rw-r----- 1 dsxuser dsxuser     4672 Jul 12 07:53 mnist_loader_asm_py3.py\r\n-rw-r----- 1 dsxuser dsxuser 17051982 Jul 12 07:53 mnist.pkl.gz\r\n-rw-r----- 1 dsxuser dsxuser     5406 Jul 12 07:53 mnist_plot0.png\r\n-rw-r----- 1 dsxuser dsxuser     4978 Jul 12 07:53 mnist_plot1.png\r\n-rw-r----- 1 dsxuser dsxuser     5108 Jul 12 07:53 mnist_plot2.png\r\n-rw-r----- 1 dsxuser dsxuser    16404 Jul 12 07:53 network2_asm_b_py3.py\r\ndrwxr-x--- 2 dsxuser dsxuser     4096 Jul 12 07:53 __pycache__\r\n"
                }
            ], 
            "source": "!ls -al"
        }
    ], 
    "metadata": {
        "kernelspec": {
            "display_name": "Python 3.5", 
            "name": "python3", 
            "language": "python"
        }, 
        "language_info": {
            "mimetype": "text/x-python", 
            "nbconvert_exporter": "python", 
            "version": "3.5.4", 
            "name": "python", 
            "file_extension": ".py", 
            "pygments_lexer": "ipython3", 
            "codemirror_mode": {
                "version": 3, 
                "name": "ipython"
            }
        }
    }, 
    "nbformat": 4
}